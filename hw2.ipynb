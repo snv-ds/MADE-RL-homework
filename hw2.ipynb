{
 "cells": [
  {
   "cell_type": "code",
   "execution_count": 42,
   "metadata": {
    "ExecuteTime": {
     "end_time": "2020-12-13T16:29:37.750868Z",
     "start_time": "2020-12-13T16:29:37.742430Z"
    }
   },
   "outputs": [],
   "source": [
    "import gym\n",
    "\n",
    "import random\n",
    "import numpy as np\n",
    "from tqdm.notebook import tqdm\n",
    "\n",
    "import matplotlib.pyplot as plt\n",
    "import math\n",
    "import random\n",
    "import numpy as np\n",
    "import pandas as pd\n",
    "from collections import defaultdict\n",
    "\n",
    "import copy\n",
    "\n",
    "from joblib import Parallel, delayed\n",
    "import multiprocessing\n",
    "from collections import namedtuple\n",
    "from itertools import count\n",
    "\n",
    "\n",
    "import matplotlib\n",
    "import matplotlib.pyplot as plt\n",
    "from IPython.display import clear_output\n",
    "\n",
    "%matplotlib inline\n",
    "\n",
    "matplotlib.style.use('ggplot')"
   ]
  },
  {
   "cell_type": "code",
   "execution_count": 2,
   "metadata": {
    "ExecuteTime": {
     "end_time": "2020-12-13T13:01:08.618931Z",
     "start_time": "2020-12-13T13:01:08.615060Z"
    }
   },
   "outputs": [],
   "source": [
    "N_ROWS, N_COLS, N_WIN = 3, 3, 3"
   ]
  },
  {
   "cell_type": "markdown",
   "metadata": {},
   "source": [
    "# Init Block"
   ]
  },
  {
   "cell_type": "markdown",
   "metadata": {},
   "source": [
    "## Enviroment"
   ]
  },
  {
   "cell_type": "code",
   "execution_count": 94,
   "metadata": {
    "ExecuteTime": {
     "end_time": "2020-12-13T16:55:58.452724Z",
     "start_time": "2020-12-13T16:55:58.406460Z"
    }
   },
   "outputs": [],
   "source": [
    "class TicTacToe(gym.Env):\n",
    "    def __init__(self, n_rows=N_ROWS, n_cols=N_COLS, n_win=N_WIN):\n",
    "        self.n_rows = n_rows\n",
    "        self.n_cols = n_cols\n",
    "        self.n_win = n_win\n",
    "\n",
    "        self.board = np.zeros((self.n_rows, self.n_cols), dtype=int)\n",
    "        self.gameOver = False\n",
    "        self.boardHash = None\n",
    "        # ход первого игрока\n",
    "        self.curTurn = 1\n",
    "        self.emptySpaces = None\n",
    "        \n",
    "        self.reset()\n",
    "\n",
    "    def getEmptySpaces(self):\n",
    "        if self.emptySpaces is None:\n",
    "            res = np.where(self.board == 0)\n",
    "            self.emptySpaces = np.array([ (i, j) for i,j in zip(res[0], res[1]) ])\n",
    "        return self.emptySpaces\n",
    "\n",
    "    def makeMove(self, player, i, j):\n",
    "        self.board[i, j] = player\n",
    "        self.emptySpaces = None\n",
    "        self.boardHash = None\n",
    "\n",
    "    def getHash(self):\n",
    "        if self.boardHash is None:\n",
    "            self.boardHash = ''.join(['%s' % (x+1) for x in self.board.reshape(self.n_rows * self.n_cols)])\n",
    "        return self.boardHash\n",
    "    \n",
    "    def board_to_number(self, state):\n",
    "        if len(state) == 0:\n",
    "            return 0\n",
    "\n",
    "        board_actions = [self.int_from_action(x) for x in state]\n",
    "        initial = np.zeros(np.max(board_actions) + 1)\n",
    "\n",
    "        for i in board_actions:\n",
    "            initial[i] = 1\n",
    "\n",
    "        return int(\"\".join(str(i) for i in initial), 2)\n",
    "    \n",
    "    def encode_state(self, current_state):\n",
    "        return (current_state[0],\n",
    "                self.board_to_number(current_state[1]),\n",
    "                current_state[2])\n",
    "\n",
    "    def isTerminal(self):\n",
    "        # проверим, не закончилась ли игра\n",
    "        cur_marks, cur_p = np.where(self.board == self.curTurn), self.curTurn\n",
    "        for i,j in zip(cur_marks[0], cur_marks[1]):\n",
    "#             print((i,j))\n",
    "            win = False\n",
    "            if i <= self.n_rows - self.n_win:\n",
    "                if np.all(self.board[i:i+self.n_win, j] == cur_p):\n",
    "                    win = True\n",
    "            if not win:\n",
    "                if j <= self.n_cols - self.n_win:\n",
    "                    if np.all(self.board[i,j:j+self.n_win] == cur_p):\n",
    "                        win = True\n",
    "            if not win:\n",
    "                if i <= self.n_rows - self.n_win and j <= self.n_cols - self.n_win:\n",
    "                    if np.all(np.array([ self.board[i+k,j+k] == cur_p for k in range(self.n_win) ])):\n",
    "                        win = True\n",
    "            if not win:\n",
    "                if i <= self.n_rows - self.n_win and j >= self.n_win-1:\n",
    "                    if np.all(np.array([ self.board[i+k,j-k] == cur_p for k in range(self.n_win) ])):\n",
    "                        win = True\n",
    "            if win:\n",
    "                self.gameOver = True\n",
    "                return self.curTurn\n",
    "\n",
    "        if len(self.getEmptySpaces()) == 0:\n",
    "            self.gameOver = True\n",
    "            return 0\n",
    "\n",
    "        self.gameOver = False\n",
    "        return None\n",
    "\n",
    "    def printBoard(self):\n",
    "        for i in range(0, self.n_rows):\n",
    "            print('----'*(self.n_cols)+'-')\n",
    "            out = '| '\n",
    "            for j in range(0, self.n_cols):\n",
    "                if self.board[i, j] == 1:\n",
    "                    token = 'x'\n",
    "                if self.board[i, j] == -1:\n",
    "                    token = 'o'\n",
    "                if self.board[i, j] == 0:\n",
    "                    token = ' '\n",
    "                out += token + ' | '\n",
    "            print(out)\n",
    "        print('----'*(self.n_cols)+'-')\n",
    "\n",
    "    def getState(self):\n",
    "        return (self.getHash(), self.getEmptySpaces(), self.curTurn)\n",
    "\n",
    "    def action_from_int(self, action_int):\n",
    "        return ( int(action_int / self.n_cols), int(action_int % self.n_cols))\n",
    "\n",
    "    def int_from_action(self, action):\n",
    "        return action[0] * self.n_cols + action[1]\n",
    "    \n",
    "    def step(self, action):\n",
    "        if self.board[action[0], action[1]] != 0:\n",
    "            return self.getState(), -10, True, {}\n",
    "        self.makeMove(self.curTurn, action[0], action[1])\n",
    "        reward = self.isTerminal()\n",
    "        self.curTurn = -self.curTurn\n",
    "        return self.getState(), 0 if reward is None else reward, reward is not None, {}\n",
    "\n",
    "    def reset(self):\n",
    "        self.board = np.zeros((self.n_rows, self.n_cols), dtype=int)\n",
    "        self.boardHash = None\n",
    "        self.gameOver = False\n",
    "        self.emptySpaces = None\n",
    "        self.curTurn = 1\n",
    "        return self.getState()"
   ]
  },
  {
   "cell_type": "code",
   "execution_count": 28,
   "metadata": {
    "ExecuteTime": {
     "end_time": "2020-12-13T15:33:54.944235Z",
     "start_time": "2020-12-13T15:33:54.930923Z"
    }
   },
   "outputs": [],
   "source": [
    "def plot_board(env, pi, showtext=True, verbose=True, fontq=20, fontx=60):\n",
    "    '''Рисуем доску с оценками из стратегии pi'''\n",
    "    clear_output(wait=True)\n",
    "    fig, ax = plt.subplots(1, 1, figsize=(8, 8))\n",
    "    X, Y = np.meshgrid(np.arange(0, env.n_rows), np.arange(0, env.n_rows))\n",
    "    Z = np.zeros((env.n_rows, env.n_cols)) + .01\n",
    "    s, actions = env.getHash(), env.getEmptySpaces()\n",
    "    if pi is not None and s in pi.Q:\n",
    "        for i, a in enumerate(actions):\n",
    "            Z[a[0], a[1]] = pi.Q[s][i]\n",
    "    ax.set_xticks([])\n",
    "    ax.set_yticks([])\n",
    "    surf = ax.imshow(Z, cmap=plt.get_cmap('Accent', 10), vmin=-1, vmax=1)\n",
    "    if showtext:\n",
    "        for i,a in enumerate(actions):\n",
    "            if pi is not None and s in pi.Q:\n",
    "                ax.text( a[1] , a[0] , \"%.3f\" % pi.Q[s][i], fontsize=fontq, horizontalalignment='center', verticalalignment='center', color=\"w\" )\n",
    "#             else:\n",
    "#                 ax.text( a[1] , a[0] , \"???\", fontsize=fontq, horizontalalignment='center', verticalalignment='center', color=\"w\" )\n",
    "    for i in range(env.n_rows):\n",
    "        for j in range(env.n_cols):\n",
    "            if env.board[i, j] == -1:\n",
    "                ax.text(j, i, \"O\", fontsize=fontx, horizontalalignment='center', verticalalignment='center', color=\"w\" )\n",
    "            if env.board[i, j] == 1:\n",
    "                ax.text(j, i, \"X\", fontsize=fontx, horizontalalignment='center', verticalalignment='center', color=\"w\" )\n",
    "    cbar = plt.colorbar(surf, ticks=[0, 1])\n",
    "    ax.grid(False)\n",
    "    plt.show()\n",
    "\n",
    "def get_and_print_move(env, pi, s, actions, random=False, verbose=True, fontq=20, fontx=60):\n",
    "    '''Делаем ход, рисуем доску'''\n",
    "    plot_board(env, pi, fontq=fontq, fontx=fontx)\n",
    "    if verbose and (pi is not None):\n",
    "        if s in pi.Q:\n",
    "            for i,a in enumerate(actions):\n",
    "                print(i, a, pi.Q[s][i])\n",
    "        else:\n",
    "            print(\"Стратегия не знает, что делать...\")\n",
    "    if random:\n",
    "        return np.random.randint(len(actions))\n",
    "    else:\n",
    "        return pi.getActionGreedy(s, len(actions))"
   ]
  },
  {
   "cell_type": "code",
   "execution_count": 26,
   "metadata": {
    "ExecuteTime": {
     "end_time": "2020-12-13T15:32:43.808050Z",
     "start_time": "2020-12-13T15:32:43.723117Z"
    }
   },
   "outputs": [],
   "source": [
    "def plot_test_game(env, pi1, pi2, random_crosses=False, random_naughts=True, verbose=True, fontq=20, fontx=60):\n",
    "    '''Играем тестовую партию между стратегиями или со случайными ходами, рисуем ход игры'''\n",
    "    done = False\n",
    "    env.reset()\n",
    "    while not done:\n",
    "        s, actions = env.getHash(), env.getEmptySpaces()\n",
    "        if env.curTurn == 1:\n",
    "            a = get_and_print_move(env, pi1, s, actions, random=random_crosses, verbose=verbose, fontq=fontq, fontx=fontx)\n",
    "        else:\n",
    "            a = get_and_print_move(env, pi2, s, actions, random=random_naughts, verbose=verbose, fontq=fontq, fontx=fontx)\n",
    "        observation, reward, done, info = env.step(actions[a])\n",
    "        if reward == 1:\n",
    "            print(\"Крестики выиграли!\")\n",
    "            plot_board(env, None, showtext=False, fontq=fontq, fontx=fontx)\n",
    "        if reward == -1:\n",
    "            print(\"Нолики выиграли!\")\n",
    "            plot_board(env, None, showtext=False, fontq=fontq, fontx=fontx)"
   ]
  },
  {
   "cell_type": "code",
   "execution_count": 29,
   "metadata": {
    "ExecuteTime": {
     "end_time": "2020-12-13T15:33:59.526662Z",
     "start_time": "2020-12-13T15:33:57.898934Z"
    }
   },
   "outputs": [
    {
     "data": {
      "image/png": "[encoded data removed]",
      "text/plain": [
       "<Figure size 576x576 with 2 Axes>"
      ]
     },
     "metadata": {},
     "output_type": "display_data"
    }
   ],
   "source": [
    "env = TicTacToe(n_rows=3, n_cols=3, n_win=3)\n",
    "plot_test_game(env, None, None, random_crosses=True, random_naughts=True, verbose=True, fontx=20)"
   ]
  },
  {
   "cell_type": "markdown",
   "metadata": {},
   "source": [
    "# Part 1. Tic Tac  Toe with Q-learning"
   ]
  },
  {
   "cell_type": "code",
   "execution_count": 118,
   "metadata": {
    "ExecuteTime": {
     "end_time": "2020-12-13T17:02:11.138617Z",
     "start_time": "2020-12-13T17:02:11.124723Z"
    }
   },
   "outputs": [],
   "source": [
    "class AgentQLearn:\n",
    "    def __init__(self, env, alpha, gamma, epsilon=1.0):\n",
    "        self._name = 'Q-Learning Agent'\n",
    "        self.env = env\n",
    "        self.action_size = 2\n",
    "        self.epsilon = epsilon\n",
    "        self.gamma = gamma\n",
    "        self.alpha = alpha\n",
    "        self.state_size = env.n_cols * env.n_rows\n",
    "        self.Q = defaultdict(lambda : np.random.uniform(size=self.state_size).tolist())\n",
    "        self.all_actions = self._init_all_actions()\n",
    "        self.X_actions = list()\n",
    "        self.X_states = list()\n",
    "        \n",
    "    @property\n",
    "    def name(self):\n",
    "        return self._name\n",
    "    \n",
    "    def _init_all_actions(self):\n",
    "        self.env.reset()\n",
    "        return self.env.getEmptySpaces().tolist()\n",
    "    \n",
    "    def _get_index(self, value):\n",
    "        try:\n",
    "            ind = self.all_actions.index(value)\n",
    "            return ind\n",
    "        except ValueError:\n",
    "            return -1\n",
    "    \n",
    "    def update_Q(self, action, state):\n",
    "        next_state, reward, done, _ = self.env.step(action) \n",
    "\n",
    "        if not done:\n",
    "            reward = 0\n",
    "        else:\n",
    "            if env.curTurn == -1: # X win\n",
    "                reward = 1\n",
    "            else:\n",
    "                reward = -1\n",
    "                \n",
    "            old_value = self.Q[self.X_states[-1]][self._get_index(list(self.X_actions[-1]))]\n",
    "            next_max = np.max(self.Q[next_state[0]])\n",
    "\n",
    "            new_value = (1 - self.alpha) * old_value + self.alpha * (reward + self.gamma * next_max)\n",
    "            self.Q[self.X_states[-1]][self._get_index(list(self.X_actions[-1]))] = new_value\n",
    "\n",
    "            state = next_state\n",
    "        \n",
    "        if env.curTurn == 1:\n",
    "            self.X_states.append(state[0])\n",
    "            old_value = self.Q[state[0]][self._get_index(list(self.X_actions[-1]))]\n",
    "            next_max = np.max(self.Q[next_state[0]])\n",
    "\n",
    "            new_value = (1 - self.alpha) * old_value + self.alpha * (reward + self.gamma * next_max)\n",
    "            self.Q[state[0]][self._get_index(list(self.X_actions[-1]))] = new_value\n",
    "\n",
    "            state = next_state\n",
    "        return state, reward, done\n",
    "        \n",
    "    def make_action(self, state):\n",
    "        actions = env.getEmptySpaces()\n",
    "        if env.curTurn == -1:\n",
    "            action = random.choice(actions)\n",
    "        else:\n",
    "            if np.random.random() < self.epsilon:\n",
    "                action = random.choice(actions)\n",
    "            else:\n",
    "                while True:\n",
    "                    ind = np.argmax(self.Q[state[0]])\n",
    "                    action = self.all_actions[ind]\n",
    "                    \n",
    "                    if action not in actions:\n",
    "                        self.Q[state[0]][self._get_index(action)] = -1000\n",
    "                    else:\n",
    "                        break\n",
    "            self.X_actions.append(action)\n",
    "        return action"
   ]
  },
  {
   "cell_type": "code",
   "execution_count": 139,
   "metadata": {
    "ExecuteTime": {
     "end_time": "2020-12-13T17:17:01.682061Z",
     "start_time": "2020-12-13T17:17:01.675026Z"
    }
   },
   "outputs": [],
   "source": [
    "import time\n",
    "def run_experiment(env, alpha, gamma, epsilon, n_exp, window=500):\n",
    "    start = time.time()\n",
    "    agent = AgentQLearn(env, alpha, gamma, epsilon)\n",
    "    rewards = list()\n",
    "    for i in range(1, n_exp):\n",
    "        state = env.reset()\n",
    "        reward = 0\n",
    "        done = False\n",
    "        while not done:\n",
    "            action = agent.make_action(state)\n",
    "            state, reward, done = agent.update_Q(action, state)\n",
    "        rewards.append(reward)\n",
    "\n",
    "        if i % 2000 == 0:\n",
    "            clear_output(wait=True)\n",
    "            plt.figure()\n",
    "            pd.Series(rewards).rolling(500).mean().plot()\n",
    "            plt.show()\n",
    "            plt.close()\n",
    "    print(f\"Evaluation completed in {time.time() - start:10.1f} seconds\")"
   ]
  },
  {
   "cell_type": "markdown",
   "metadata": {},
   "source": [
    "### 3x3"
   ]
  },
  {
   "cell_type": "code",
   "execution_count": 140,
   "metadata": {
    "ExecuteTime": {
     "end_time": "2020-12-13T17:17:25.535431Z",
     "start_time": "2020-12-13T17:17:02.138334Z"
    },
    "scrolled": true
   },
   "outputs": [
    {
     "data": {
      "image/png": "[encoded data removed]",
      "text/plain": [
       "<Figure size 432x288 with 1 Axes>"
      ]
     },
     "metadata": {},
     "output_type": "display_data"
    },
    {
     "name": "stdout",
     "output_type": "stream",
     "text": [
      "Evaluation completed in       23.4 seconds\n"
     ]
    }
   ],
   "source": [
    "env = TicTacToe(n_rows=3, n_cols=3, n_win=3)\n",
    "run_experiment(env, 0.15, 0.9, 0.05, 40000)"
   ]
  },
  {
   "cell_type": "markdown",
   "metadata": {},
   "source": [
    "### 4x4"
   ]
  },
  {
   "cell_type": "code",
   "execution_count": 141,
   "metadata": {
    "ExecuteTime": {
     "end_time": "2020-12-13T17:26:06.053018Z",
     "start_time": "2020-12-13T17:17:39.398180Z"
    }
   },
   "outputs": [
    {
     "data": {
      "image/png": "[encoded data removed]",
      "text/plain": [
       "<Figure size 432x288 with 1 Axes>"
      ]
     },
     "metadata": {},
     "output_type": "display_data"
    },
    {
     "name": "stdout",
     "output_type": "stream",
     "text": [
      "Evaluation completed in      506.7 seconds\n"
     ]
    }
   ],
   "source": [
    "env = TicTacToe(n_rows=4, n_cols=4, n_win=4)\n",
    "run_experiment(env, 0.15, 0.9, 0.05, 500000, 2000)"
   ]
  },
  {
   "cell_type": "markdown",
   "metadata": {},
   "source": [
    "It takes far more time to learn appropriate winning strategy because we are playing against random strategy, and on large desks it takes more steps to learn and harder to win, when every action of opponent is unpredictable and random."
   ]
  },
  {
   "cell_type": "markdown",
   "metadata": {},
   "source": [
    "## Adding neural networks"
   ]
  },
  {
   "cell_type": "code",
   "execution_count": 149,
   "metadata": {
    "ExecuteTime": {
     "end_time": "2020-12-13T18:58:10.446323Z",
     "start_time": "2020-12-13T18:58:09.011719Z"
    }
   },
   "outputs": [],
   "source": [
    "import torch\n",
    "import torch.nn as nn\n",
    "import torch.optim as optim\n",
    "import torch.nn.functional as F\n",
    "import torchvision.transforms as T\n",
    "from torch.autograd import Variable"
   ]
  },
  {
   "cell_type": "code",
   "execution_count": 201,
   "metadata": {
    "ExecuteTime": {
     "end_time": "2020-12-13T20:02:12.204248Z",
     "start_time": "2020-12-13T20:02:12.197776Z"
    }
   },
   "outputs": [],
   "source": [
    "class ReplayMemory():\n",
    "    def __init__(self, capacity):\n",
    "        self.capacity = capacity\n",
    "        self.memory = []\n",
    "        self.position = 0\n",
    "\n",
    "    def store(self, exptuple):\n",
    "        if len(self.memory) < self.capacity:\n",
    "            self.memory.append(None)\n",
    "        self.memory[self.position] = exptuple\n",
    "        self.position = (self.position + 1) % self.capacity\n",
    "       \n",
    "    def sample(self, batch_size):\n",
    "        return random.sample(self.memory, batch_size)\n",
    "    \n",
    "    def __len__(self):\n",
    "        return len(self.memory)"
   ]
  },
  {
   "cell_type": "code",
   "execution_count": 202,
   "metadata": {
    "ExecuteTime": {
     "end_time": "2020-12-13T20:02:12.918274Z",
     "start_time": "2020-12-13T20:02:12.912352Z"
    }
   },
   "outputs": [],
   "source": [
    "class Network(nn.Module):\n",
    "    def __init__(self, n_cols, n_rows):\n",
    "        nn.Module.__init__(self)\n",
    "        self.conv_out_size = 5\n",
    "        self.n_cols = n_cols\n",
    "        self.n_rows = n_rows\n",
    "        self.conv = nn.Conv2d(3, self.conv_out_size, kernel_size=3, stride=1, padding=1)\n",
    "        self.l2 = nn.Linear(self.conv_out_size * n_cols * n_rows, n_cols * n_rows)\n",
    "\n",
    "    def forward(self, x):\n",
    "        x = F.relu(self.conv(x))\n",
    "        x = x.view(-1, self.conv_out_size * self.n_cols * self.n_rows)\n",
    "        x = self.l2(x)\n",
    "        return x"
   ]
  },
  {
   "cell_type": "code",
   "execution_count": 203,
   "metadata": {
    "ExecuteTime": {
     "end_time": "2020-12-13T20:02:13.464568Z",
     "start_time": "2020-12-13T20:02:13.445708Z"
    }
   },
   "outputs": [],
   "source": [
    "class AgentQLearn:\n",
    "    def __init__(self, env, gamma, model, optim,\n",
    "                 replay_memory_size=100000, batch_size=64,\n",
    "                 eps_init=0.9, eps_final=0.05, eps_decay=400):\n",
    "            self._name = 'DQN-Learning Agent'\n",
    "            self.env = env\n",
    "            self.action_size = 2\n",
    "            self.model = model\n",
    "            self.optimizer = optim\n",
    "            self.gamma = gamma\n",
    "            self.state_size = self.env.n_cols * self.env.n_rows\n",
    "            self.memory = ReplayMemory(replay_memory_size)\n",
    "            self.eps_init, self.eps_final, self.eps_decay = eps_init, eps_final, eps_decay\n",
    "            self.batch_size = batch_size\n",
    "            self.num_step = 0\n",
    "\n",
    "    @property\n",
    "    def name(self):\n",
    "        return self._name\n",
    "\n",
    "    def encode_state_dqn(self, state):\n",
    "        state_to_itterate = [int(i) for i in state[0]]\n",
    "        result = np.zeros(( 3, self.env.n_cols, self.env.n_cols))\n",
    "\n",
    "        for i in range(3):\n",
    "            idx = np.where(np.array(state_to_itterate) == i)\n",
    "            for id in idx[0]:\n",
    "                result[i][id // self.env.n_cols][id % self.env.n_cols] = 1\n",
    "\n",
    "        return result\n",
    "\n",
    "    def select_greedy_action(self, state):\n",
    "        return self.model(state).data.max(1)[1].view(1, 1)\n",
    "\n",
    "    def make_action(self, state):\n",
    "        self.num_step += 1\n",
    "        eps_threshold = self.eps_final + (self.eps_init - self.eps_final) * math.exp(-1. * self.num_step / self.eps_decay)\n",
    "        if np.random.random() > eps_threshold:\n",
    "            return self.select_greedy_action(state)\n",
    "        else:\n",
    "            return torch.tensor([[random.randrange(self.action_size)]], dtype=torch.int64)\n",
    "\n",
    "    def run_episode(self, e=0, do_learning=True):\n",
    "\n",
    "        self.env.reset()\n",
    "        state = self.encode_state_dqn(self.env.getState())\n",
    "        num_step = 0\n",
    "        done = True\n",
    "        x_plays = random.choice(range(self.action_size))  # select for whom we will play\n",
    "\n",
    "        if not x_plays:\n",
    "            state, reward, done, _ = self.env.step(random.choice(self.env.getEmptySpaces()))\n",
    "            state = self.encode_state_dqn(state)\n",
    "\n",
    "        while not done:\n",
    "            state_tensor = torch.tensor([state], dtype=torch.float32)\n",
    "            with torch.no_grad():\n",
    "                action = self.make_action(state_tensor)\n",
    "            action = self.env.action_from_int(action.numpy()[0][0])\n",
    "            next_state, reward, done, _ = self.env.step(action)\n",
    "            next_state = self.encode_state_dqn(next_state)\n",
    "            next_state_tensor = torch.tensor([next_state], dtype=torch.float32)\n",
    "\n",
    "            if not done:\n",
    "                next_state, reward, done, _ = self.env.step(random.choice(self.env.getEmptySpaces()))\n",
    "                next_state = self.encode_state_dqn(next_state)\n",
    "                next_state_tensor = torch.tensor([next_state], dtype=torch.float32)\n",
    "\n",
    "            if env.curTurn == -1: # X win\n",
    "                reward = 1\n",
    "            else:\n",
    "                reward = -1\n",
    "\n",
    "            transition = (state_tensor, action, next_state_tensor, torch.tensor([reward], dtype=torch.float32))\n",
    "            self.memory.store(transition)\n",
    "\n",
    "            if do_learning:\n",
    "                  self.learn()\n",
    "\n",
    "            if done:\n",
    "                  break\n",
    "\n",
    "            state = next_state\n",
    "            num_step += 1\n",
    "            \n",
    "    def learn(self):\n",
    "        if len(self.memory) < self.batch_size:\n",
    "            return\n",
    "\n",
    "        transitions = self.memory.sample(self.batch_size)\n",
    "        batch_state, batch_action, batch_next_state, batch_reward = zip(*transitions)\n",
    "\n",
    "        batch_state = Variable(torch.cat(batch_state), requires_grad=True)\n",
    "        batch_action = Variable(torch.cat(batch_action))\n",
    "        batch_reward = Variable(torch.cat(batch_reward))\n",
    "        batch_next_state = Variable(torch.cat(batch_next_state))\n",
    "\n",
    "        Q = self.model(batch_state).gather(1, batch_action).reshape([self.batch_size])\n",
    "\n",
    "        Qmax = self.model(batch_next_state).detach().max(1)[0]\n",
    "        Qnext = batch_reward + (self.gamma * Qmax)\n",
    "\n",
    "        loss = F.smooth_l1_loss(Q, Qnext)\n",
    "\n",
    "        self.optimizer.zero_grad()\n",
    "        loss.backward()\n",
    "        self.optimizer.step()"
   ]
  },
  {
   "cell_type": "code",
   "execution_count": 204,
   "metadata": {
    "ExecuteTime": {
     "end_time": "2020-12-13T20:02:13.990234Z",
     "start_time": "2020-12-13T20:02:13.981346Z"
    }
   },
   "outputs": [],
   "source": [
    "def conduct_experiments_dqs(env, model, n_cols, num_experiments=1000):\n",
    "    total_reward = []\n",
    "\n",
    "    for i in range(num_experiments):\n",
    "        total_reward.append(0)\n",
    "\n",
    "        env_starts = random.choice([0, 1])\n",
    "\n",
    "        env.reset()\n",
    "        curr_state = encode_state_dqn(env.getState(), n_cols)\n",
    "        \n",
    "        if env_starts:\n",
    "            curr_state, reward_opponent, done, _ = env.step(random.choice(env.getEmptySpaces()))\n",
    "            curr_state = encode_state_dqn(curr_state, n_cols)\n",
    "        \n",
    "        done = False\n",
    "        while not done:\n",
    "\n",
    "            curr_act = model(torch.tensor([curr_state], dtype=torch.float32)).data\n",
    "            curr_act = np.argmax(curr_act.detach().numpy()[0])\n",
    "\n",
    "            curr_state, reward_our_alg, done, _ = env.step(env.action_from_int(curr_act))\n",
    "            curr_state = encode_state_dqn(curr_state, n_cols)\n",
    "\n",
    "            if env_starts:\n",
    "                if reward_our_alg == -1:\n",
    "                    total_reward[-1] += 1\n",
    "                elif reward_our_alg == -10:\n",
    "                    total_reward[-1] += reward_our_alg\n",
    "            else:\n",
    "                total_reward[-1] += reward_our_alg\n",
    "\n",
    "\n",
    "            if done:\n",
    "                break\n",
    "\n",
    "            ## Random step\n",
    "            curr_state, reward_opponent, done, _ = env.step(random.choice(env.getEmptySpaces()))\n",
    "            curr_state = encode_state_dqn(curr_state, n_cols)\n",
    "\n",
    "            if env_starts:\n",
    "                total_reward[-1] -= reward_opponent\n",
    "            else:\n",
    "                total_reward[-1] += reward_opponent\n",
    "\n",
    "            if done:\n",
    "                break\n",
    "\n",
    "    env.close()\n",
    "    return np.sum(total_reward)"
   ]
  },
  {
   "cell_type": "code",
   "execution_count": 205,
   "metadata": {
    "ExecuteTime": {
     "end_time": "2020-12-13T20:02:14.430400Z",
     "start_time": "2020-12-13T20:02:14.426141Z"
    }
   },
   "outputs": [],
   "source": [
    "N_ROWS, N_COLS, N_WIN = 3, 3, 3\n",
    "N_EPOCHS = 3000\n",
    "N_EXP = 300\n",
    "EPS_INIT  = 0.9\n",
    "EPS_FINAL = 0.05\n",
    "EPS_DECAY = 5000\n",
    "RM_SIZE = 100000\n",
    "GAMMA = 0.92\n",
    "BATCH_SIZE = 128\n",
    "LR = 0.001\n",
    "EXP_NUMBER = 1000"
   ]
  },
  {
   "cell_type": "code",
   "execution_count": 209,
   "metadata": {
    "ExecuteTime": {
     "end_time": "2020-12-13T20:05:22.612271Z",
     "start_time": "2020-12-13T20:05:13.064357Z"
    }
   },
   "outputs": [
    {
     "name": "stdout",
     "output_type": "stream",
     "text": [
      "Starting training...\n"
     ]
    },
    {
     "data": {
      "application/vnd.jupyter.widget-view+json": {
       "model_id": "f2651143202841ec8441ebae96048777",
       "version_major": 2,
       "version_minor": 0
      },
      "text/plain": [
       "HBox(children=(HTML(value=''), FloatProgress(value=0.0, max=3001.0), HTML(value='')))"
      ]
     },
     "metadata": {},
     "output_type": "display_data"
    },
    {
     "name": "stdout",
     "output_type": "stream",
     "text": [
      "\n"
     ]
    }
   ],
   "source": [
    "model = Network(N_COLS, N_ROWS)\n",
    "env = TicTacToe(n_rows=N_ROWS, n_cols=N_COLS, n_win=N_WIN)\n",
    "optimizer = optim.Adam(model.parameters(), LR)\n",
    "dqn = AgentQLearn(env, GAMMA, model, optimizer, RM_SIZE, batch_size=BATCH_SIZE,\n",
    "                  eps_init=EPS_INIT, eps_final=EPS_FINAL, eps_decay=EPS_DECAY)\n",
    "\n",
    "res = []\n",
    "start = time.time()\n",
    "print(\"Starting training...\")\n",
    "for e in tqdm(range(N_EPOCHS + 1)):\n",
    "#     dqn.run_episode(e)\n",
    "    if e % N_EXP == 0:\n",
    "        res.append(conduct_experiments_dqs(env, model, N_COLS, EXP_NUMBER))\n"
   ]
  },
  {
   "cell_type": "code",
   "execution_count": 160,
   "metadata": {
    "ExecuteTime": {
     "end_time": "2020-12-13T19:06:38.623189Z",
     "start_time": "2020-12-13T19:06:38.470291Z"
    }
   },
   "outputs": [
    {
     "name": "stdout",
     "output_type": "stream",
     "text": [
      "last reward:0.064\n"
     ]
    },
    {
     "data": {
      "image/png": "[encoded data removed]",
      "text/plain": [
       "<Figure size 432x288 with 1 Axes>"
      ]
     },
     "metadata": {},
     "output_type": "display_data"
    }
   ],
   "source": [
    "res = [number / EXP_NUMBER for number in res]\n",
    "print(\"last reward:\" + str(res[-1]))\n",
    "plt.plot(np.arange(0, N_EPOCHS + 1, N_EXP), res, label=\"dql\")\n",
    "plt.grid()\n",
    "_ = plt.legend()\n",
    "plt.show()"
   ]
  },
  {
   "cell_type": "code",
   "execution_count": null,
   "metadata": {},
   "outputs": [],
   "source": []
  }
 ],
 "metadata": {
  "kernelspec": {
   "display_name": "Python 3",
   "language": "python",
   "name": "python3"
  },
  "language_info": {
   "codemirror_mode": {
    "name": "ipython",
    "version": 3
   },
   "file_extension": ".py",
   "mimetype": "text/x-python",
   "name": "python",
   "nbconvert_exporter": "python",
   "pygments_lexer": "ipython3",
   "version": "3.7.4"
  },
  "toc": {
   "base_numbering": 1,
   "nav_menu": {},
   "number_sections": true,
   "sideBar": true,
   "skip_h1_title": false,
   "title_cell": "Table of Contents",
   "title_sidebar": "Contents",
   "toc_cell": false,
   "toc_position": {},
   "toc_section_display": true,
   "toc_window_display": false
  },
  "varInspector": {
   "cols": {
    "lenName": 16,
    "lenType": 16,
    "lenVar": 40
   },
   "kernels_config": {
    "python": {
     "delete_cmd_postfix": "",
     "delete_cmd_prefix": "del ",
     "library": "var_list.py",
     "varRefreshCmd": "print(var_dic_list())"
    },
    "r": {
     "delete_cmd_postfix": ") ",
     "delete_cmd_prefix": "rm(",
     "library": "var_list.r",
     "varRefreshCmd": "cat(var_dic_list()) "
    }
   },
   "types_to_exclude": [
    "module",
    "function",
    "builtin_function_or_method",
    "instance",
    "_Feature"
   ],
   "window_display": false
  }
 },
 "nbformat": 4,
 "nbformat_minor": 4
}
